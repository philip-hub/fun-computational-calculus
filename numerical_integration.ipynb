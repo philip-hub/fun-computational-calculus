{
  "nbformat": 4,
  "nbformat_minor": 0,
  "metadata": {
    "colab": {
      "name": "numerical analysis.ipynb",
      "provenance": [],
      "authorship_tag": "ABX9TyN7sar/2D1TQ8eYZdjVRuzH",
      "include_colab_link": true
    },
    "kernelspec": {
      "name": "python3",
      "display_name": "Python 3"
    },
    "language_info": {
      "name": "python"
    }
  },
  "cells": [
    {
      "cell_type": "markdown",
      "metadata": {
        "id": "view-in-github",
        "colab_type": "text"
      },
      "source": [
        "<a href=\"https://colab.research.google.com/github/philip-hub/fun-computational-calculus/blob/main/numerical_integration.ipynb\" target=\"_parent\"><img src=\"https://colab.research.google.com/assets/colab-badge.svg\" alt=\"Open In Colab\"/></a>"
      ]
    },
    {
      "cell_type": "code",
      "execution_count": 2,
      "metadata": {
        "id": "Own1wu97EAJz"
      },
      "outputs": [],
      "source": [
        "import matplotlib.pyplot as plt\n",
        "import numpy as np\n",
        "import sympy as sy"
      ]
    },
    {
      "cell_type": "code",
      "source": [
        "#this code is based on https://www.geeksforgeeks.org/graph-plotting-in-python-set-1/\n",
        "\n",
        "# setting the x - coordinates\n",
        "x = np.arange(0, 2*(np.pi), 0.1) #numpy.arange([start, ]stop, [step, ]dtype=None, *, like=None)\n",
        "# setting the corresponding y - coordinates\n",
        "y = np.sin(x) #as a function of x\n",
        " \n",
        "# plotting points\n",
        "plt.plot(x, y)\n",
        " \n",
        "# function to show the plot\n",
        "plt.show()"
      ],
      "metadata": {
        "colab": {
          "base_uri": "https://localhost:8080/",
          "height": 265
        },
        "id": "tcbS3lwVEUTq",
        "outputId": "08924e29-f02b-4efd-b17b-91ea7ad805ab"
      },
      "execution_count": 3,
      "outputs": [
        {
          "output_type": "display_data",
          "data": {
            "image/png": "[encoded data removed]",
            "text/plain": [
              "<Figure size 432x288 with 1 Axes>"
            ]
          },
          "metadata": {
            "needs_background": "light"
          }
        }
      ]
    },
    {
      "cell_type": "code",
      "source": [
        "def f(x):\n",
        "    return x**2\n",
        "  \n",
        "x = np.linspace(0, 2, 1000) #numpy.linspace(start, stop, num=50, endpoint=True, retstep=False, dtype=None, axis=0)\n",
        "plt.plot(x, f(x)) #ploting the curve\n",
        "plt.axhline(color=\"black\") # the line color\n",
        "plt.fill_between(x, f(x), where=[(x > 0) and (x < 2) for x in x]) # filling in the area under the curve from 0 to 2\n",
        "plt.show()\n",
        "\n",
        "x = sy.Symbol(\"x\") #basically gives all values of x as in f(x) in math https://www.tutorialspoint.com/sympy/sympy_symbols.htm\n",
        "print(sy.integrate(f(x), (x, 0, 2))) #https://www.geeksforgeeks.org/python-sympy-integrate-method/"
      ],
      "metadata": {
        "colab": {
          "base_uri": "https://localhost:8080/",
          "height": 282
        },
        "id": "Rg7V6HpjE612",
        "outputId": "209a2528-4683-44d0-ec83-c095ea4e1e6e"
      },
      "execution_count": 8,
      "outputs": [
        {
          "output_type": "display_data",
          "data": {
            "image/png": "[encoded data removed]",
            "text/plain": [
              "<Figure size 432x288 with 1 Axes>"
            ]
          },
          "metadata": {
            "needs_background": "light"
          }
        },
        {
          "output_type": "stream",
          "name": "stdout",
          "text": [
            "8/3\n"
          ]
        }
      ]
    },
    {
      "cell_type": "code",
      "source": [
        "#time to create our own integration computational function\n",
        "\n",
        "def f(x):\n",
        "  return x**2\n",
        "\n",
        "#lets first graph the function \n",
        "# to do so we can break this down into smaller pieces\n",
        "\n",
        "i=0\n",
        "\n",
        "x_list = []\n",
        "y_list= []\n",
        "\n",
        "width = .1\n",
        "\n",
        "\n",
        "while i < 2:\n",
        "  i = i + .1\n",
        "  x = i\n",
        "  y = f(x)\n",
        "  print(x)\n",
        "  print(y)\n",
        "  x_list.append(x)\n",
        "  y_list.append(y)\n",
        "\n",
        "print(x_list)\n",
        "print(y_list)\n",
        "\n",
        "# if we plot each point\n",
        "plt.scatter(x_list, y_list)\n",
        "plt.show()"
      ],
      "metadata": {
        "colab": {
          "base_uri": "https://localhost:8080/",
          "height": 999
        },
        "id": "AJ7BBbrCHAM4",
        "outputId": "e7b4f554-3cf4-4d99-f4b4-882149b38185"
      },
      "execution_count": 8,
      "outputs": [
        {
          "output_type": "stream",
          "name": "stdout",
          "text": [
            "0.1\n",
            "0.010000000000000002\n",
            "0.2\n",
            "0.04000000000000001\n",
            "0.30000000000000004\n",
            "0.09000000000000002\n",
            "0.4\n",
            "0.16000000000000003\n",
            "0.5\n",
            "0.25\n",
            "0.6\n",
            "0.36\n",
            "0.7\n",
            "0.48999999999999994\n",
            "0.7999999999999999\n",
            "0.6399999999999999\n",
            "0.8999999999999999\n",
            "0.8099999999999998\n",
            "0.9999999999999999\n",
            "0.9999999999999998\n",
            "1.0999999999999999\n",
            "1.2099999999999997\n",
            "1.2\n",
            "1.44\n",
            "1.3\n",
            "1.6900000000000002\n",
            "1.4000000000000001\n",
            "1.9600000000000004\n",
            "1.5000000000000002\n",
            "2.250000000000001\n",
            "1.6000000000000003\n",
            "2.560000000000001\n",
            "1.7000000000000004\n",
            "2.8900000000000015\n",
            "1.8000000000000005\n",
            "3.2400000000000015\n",
            "1.9000000000000006\n",
            "3.610000000000002\n",
            "2.0000000000000004\n",
            "4.000000000000002\n",
            "[0.1, 0.2, 0.30000000000000004, 0.4, 0.5, 0.6, 0.7, 0.7999999999999999, 0.8999999999999999, 0.9999999999999999, 1.0999999999999999, 1.2, 1.3, 1.4000000000000001, 1.5000000000000002, 1.6000000000000003, 1.7000000000000004, 1.8000000000000005, 1.9000000000000006, 2.0000000000000004]\n",
            "[0.010000000000000002, 0.04000000000000001, 0.09000000000000002, 0.16000000000000003, 0.25, 0.36, 0.48999999999999994, 0.6399999999999999, 0.8099999999999998, 0.9999999999999998, 1.2099999999999997, 1.44, 1.6900000000000002, 1.9600000000000004, 2.250000000000001, 2.560000000000001, 2.8900000000000015, 3.2400000000000015, 3.610000000000002, 4.000000000000002]\n"
          ]
        },
        {
          "output_type": "display_data",
          "data": {
            "image/png": "[encoded data removed]",
            "text/plain": [
              "<Figure size 432x288 with 1 Axes>"
            ]
          },
          "metadata": {
            "needs_background": "light"
          }
        }
      ]
    },
    {
      "cell_type": "code",
      "source": [
        "#yay we graphed our own function now lets integrate it with the trapaziod method\n",
        "area_list =[]\n",
        "\n",
        "\n",
        "for i in range(len(y_list)):\n",
        "  if i+1 < len(y_list):\n",
        "    base1 = y_list[i]\n",
        "    #print(base1)\n",
        "    base2 = y_list[i+1]\n",
        "    #print(base2)\n",
        "    #area of a trapaziod = .5 base1+base2*height in our case height is width\n",
        "    area = .5*(base1+base2)*width;\n",
        "    print(area)\n",
        "    area_list.append(area)\n",
        "\n",
        "\n",
        "final_area = sum(area_list)\n",
        "print(\"\\n final area\")\n",
        "print(final_area)\n",
        "\n",
        "\n",
        "\n"
      ],
      "metadata": {
        "colab": {
          "base_uri": "https://localhost:8080/"
        },
        "id": "ssRRNvP5KpjT",
        "outputId": "76ec079c-7852-44f0-85c4-3c22f8ed4aca"
      },
      "execution_count": 21,
      "outputs": [
        {
          "output_type": "stream",
          "name": "stdout",
          "text": [
            "0.0025000000000000005\n",
            "0.006500000000000002\n",
            "0.012500000000000004\n",
            "0.020500000000000004\n",
            "0.0305\n",
            "0.042499999999999996\n",
            "0.056499999999999995\n",
            "0.0725\n",
            "0.09049999999999998\n",
            "0.11049999999999999\n",
            "0.13249999999999998\n",
            "0.1565\n",
            "0.18250000000000002\n",
            "0.21050000000000005\n",
            "0.24050000000000013\n",
            "0.27250000000000013\n",
            "0.30650000000000016\n",
            "0.3425000000000002\n",
            "0.3805000000000002\n",
            "\n",
            " final area\n",
            "2.6695000000000007\n"
          ]
        }
      ]
    },
    {
      "cell_type": "code",
      "source": [
        "#again but this time with visualization\n",
        "area_list =[]\n",
        "\n",
        "\n",
        "for i in range(len(y_list)):\n",
        "  if i+1 < len(y_list):\n",
        "    base1 = y_list[i]\n",
        "    #print(base1)\n",
        "    base2 = y_list[i+1]\n",
        "    x1 = x_list[i]\n",
        "    x2 = x_list[i+1]\n",
        "    x_coor = [x1, x2]\n",
        "    y_coor = [base1, base2]\n",
        "\n",
        "    plt.plot(x_coor,y_coor)\n",
        "    \n",
        "    vert1_x = [x1, x1]\n",
        "    vert1_y = [0, base1]\n",
        "\n",
        "    plt.plot(vert1_x,vert1_y)\n",
        "\n",
        "    vert2_x = [x2, x2]\n",
        "    vert2_y = [0, base2]\n",
        "\n",
        "    plt.plot(vert2_x,vert2_y)\n",
        "\n",
        "    #print(base2)\n",
        "    #area of a trapaziod = .5 base1+base2*height in our case height is width\n",
        "    area = .5*(base1+base2)*width;\n",
        "    print(area)\n",
        "    area_list.append(area)\n",
        "\n",
        "\n",
        "final_area = sum(area_list)\n",
        "print(\"\\n final area\")\n",
        "print(final_area)\n",
        "\n",
        "plt.show()"
      ],
      "metadata": {
        "colab": {
          "base_uri": "https://localhost:8080/",
          "height": 639
        },
        "id": "NN8TFIuxOcIM",
        "outputId": "79175d08-bfa7-4f6a-9241-95e52cd37426"
      },
      "execution_count": 24,
      "outputs": [
        {
          "output_type": "stream",
          "name": "stdout",
          "text": [
            "0.0025000000000000005\n",
            "0.006500000000000002\n",
            "0.012500000000000004\n",
            "0.020500000000000004\n",
            "0.0305\n",
            "0.042499999999999996\n",
            "0.056499999999999995\n",
            "0.0725\n",
            "0.09049999999999998\n",
            "0.11049999999999999\n",
            "0.13249999999999998\n",
            "0.1565\n",
            "0.18250000000000002\n",
            "0.21050000000000005\n",
            "0.24050000000000013\n",
            "0.27250000000000013\n",
            "0.30650000000000016\n",
            "0.3425000000000002\n",
            "0.3805000000000002\n",
            "\n",
            " final area\n",
            "2.6695000000000007\n"
          ]
        },
        {
          "output_type": "display_data",
          "data": {
            "image/png": "[encoded data removed]",
            "text/plain": [
              "<Figure size 432x288 with 1 Axes>"
            ]
          },
          "metadata": {
            "needs_background": "light"
          }
        }
      ]
    }
  ]
}